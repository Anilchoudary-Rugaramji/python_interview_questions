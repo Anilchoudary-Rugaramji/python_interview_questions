{
 "cells": [
  {
   "cell_type": "markdown",
   "id": "c8b0d3d4",
   "metadata": {},
   "source": [
    "### Split() -  divides a string into a list of substrings, based on a separator (by default, spaces).>"
   ]
  },
  {
   "cell_type": "code",
   "execution_count": 1,
   "id": "c4e1b064",
   "metadata": {},
   "outputs": [],
   "source": [
    "text = \"GEN AI is changing the world\""
   ]
  },
  {
   "cell_type": "code",
   "execution_count": 3,
   "id": "f3c47d98",
   "metadata": {},
   "outputs": [
    {
     "name": "stdout",
     "output_type": "stream",
     "text": [
      "Splitted word : ['GEN', 'AI', 'is', 'changing', 'the', 'world']\n"
     ]
    }
   ],
   "source": [
    "words = text.split()\n",
    "print(f\"Splitted word : {words}\")"
   ]
  },
  {
   "cell_type": "code",
   "execution_count": 7,
   "id": "249f53f5",
   "metadata": {},
   "outputs": [
    {
     "name": "stdout",
     "output_type": "stream",
     "text": [
      "Splitted word : ['apple', 'banana', 'orange']\n"
     ]
    }
   ],
   "source": [
    "# Example with a custom separator:\n",
    "data = \"apple,banana,orange\" # useful to split the csv in to text\n",
    "word = data.split(\",\")\n",
    "print(f\"Splitted word : {word}\")"
   ]
  },
  {
   "cell_type": "markdown",
   "id": "6e6d062d",
   "metadata": {},
   "source": [
    "### Strip() - removes leading and trailing whitespace or specified characters from a string."
   ]
  },
  {
   "cell_type": "code",
   "execution_count": 10,
   "id": "b0bdb2fa",
   "metadata": {},
   "outputs": [
    {
     "name": "stdout",
     "output_type": "stream",
     "text": [
      "length befor cleaning: 12\n",
      "cleaned word : hello\n",
      "length after cleaning: 5\n"
     ]
    }
   ],
   "source": [
    "word = \"    hello   \"\n",
    "print(f\"length befor cleaning: {len(word)}\")\n",
    "cleaned_word = word.strip()\n",
    "print(f\"cleaned word : {cleaned_word}\")\n",
    "print(f\"length after cleaning: {len(cleaned_word)}\")"
   ]
  },
  {
   "cell_type": "code",
   "execution_count": 15,
   "id": "539637e8",
   "metadata": {},
   "outputs": [
    {
     "name": "stdout",
     "output_type": "stream",
     "text": [
      "cleaned word: world\n"
     ]
    }
   ],
   "source": [
    "word = \"world!\"\n",
    "cleaned = word.strip(\"!\")\n",
    "print(f\"cleaned word: {cleaned}\")"
   ]
  },
  {
   "cell_type": "markdown",
   "id": "eae3cac1",
   "metadata": {},
   "source": [
    "### Split a paragraph into sentences\n"
   ]
  },
  {
   "cell_type": "code",
   "execution_count": 16,
   "id": "b9229f3d",
   "metadata": {},
   "outputs": [
    {
     "name": "stdout",
     "output_type": "stream",
     "text": [
      "Sentences: ['Hello', 'world.', 'AI', 'is', 'fun.', 'Learn', 'every', 'day.']\n"
     ]
    }
   ],
   "source": [
    "text = \"Hello world. AI is fun. Learn every day.\"\n",
    "sentences = text.split()\n",
    "print(f\"Sentences: {sentences}\")"
   ]
  },
  {
   "cell_type": "code",
   "execution_count": 19,
   "id": "afe6d763",
   "metadata": {},
   "outputs": [
    {
     "name": "stdout",
     "output_type": "stream",
     "text": [
      "Splitted: ['Hi!', 'How', 'are', 'you?', 'Good!']\n"
     ]
    }
   ],
   "source": [
    "text = \"Hi! How are you? Good!\"\n",
    "parts = text.split()\n",
    "print(f\"Splitted: {parts}\")"
   ]
  },
  {
   "cell_type": "code",
   "execution_count": 22,
   "id": "05e5bae9",
   "metadata": {},
   "outputs": [
    {
     "name": "stdout",
     "output_type": "stream",
     "text": [
      "Hi\n",
      "How\n",
      "are\n",
      "you\n",
      "Good\n"
     ]
    }
   ],
   "source": [
    "for part in parts:\n",
    "    clean = part.strip(\"!, ?\")\n",
    "    print(f\"{clean}\")"
   ]
  },
  {
   "cell_type": "code",
   "execution_count": null,
   "id": "6ac26e13",
   "metadata": {},
   "outputs": [],
   "source": []
  }
 ],
 "metadata": {
  "kernelspec": {
   "display_name": "base",
   "language": "python",
   "name": "python3"
  },
  "language_info": {
   "codemirror_mode": {
    "name": "ipython",
    "version": 3
   },
   "file_extension": ".py",
   "mimetype": "text/x-python",
   "name": "python",
   "nbconvert_exporter": "python",
   "pygments_lexer": "ipython3",
   "version": "3.13.2"
  }
 },
 "nbformat": 4,
 "nbformat_minor": 5
}
