{
 "cells": [
  {
   "cell_type": "code",
   "execution_count": 2,
   "id": "df764785",
   "metadata": {},
   "outputs": [
    {
     "name": "stdout",
     "output_type": "stream",
     "text": [
      "Breweing Coffee\n",
      "Coffee is Ready\n",
      "Toasting Bread\n",
      "Toast is ready\n",
      "Total time required is 5.000819206237793 minutes\n"
     ]
    }
   ],
   "source": [
    "import time\n",
    "\n",
    "def brew_coffee():\n",
    "    print(\"Breweing Coffee\")\n",
    "    time.sleep(3)\n",
    "    print(\"Coffee is Ready\")\n",
    "\n",
    "\n",
    "def toasting_bread():\n",
    "    print(\"Toasting Bread\")\n",
    "    time.sleep(2)\n",
    "    print(\"Toast is ready\")\n",
    "\n",
    "\n",
    "def main():\n",
    "    start = time.time()\n",
    "\n",
    "    coffee = brew_coffee()\n",
    "    toast = toasting_bread()\n",
    "\n",
    "    end = time.time()\n",
    "\n",
    "    print(f\"Total time required is {end-start} minutes\")\n",
    "\n",
    "\n",
    "main()\n"
   ]
  },
  {
   "cell_type": "code",
   "execution_count": null,
   "id": "e8c33fc5",
   "metadata": {},
   "outputs": [
    {
     "name": "stdout",
     "output_type": "stream",
     "text": [
      "Breweing Coffee\n",
      "Toasting Bread\n",
      "Toast is ready\n",
      "Coffee is Ready\n",
      "Total time required is 3.0046801567077637 minutes\n"
     ]
    }
   ],
   "source": [
    "import time\n",
    "import asyncio\n",
    "\n",
    "async def brew_coffee():\n",
    "    print(\"Breweing Coffee\")\n",
    "    await asyncio.sleep(3)\n",
    "    print(\"Coffee is Ready\")\n",
    "\n",
    "\n",
    "async def toasting_bread():\n",
    "    print(\"Toasting Bread\")\n",
    "    await asyncio.sleep(2)\n",
    "    print(\"Toast is ready\")\n",
    "\n",
    "\n",
    "async def main():\n",
    "\n",
    "    start = time.time()\n",
    "\n",
    "    coffee = brew_coffee()\n",
    "    toast = toasting_bread()\n",
    "\n",
    "    results = await asyncio.gather(coffee, toast)\n",
    "    \n",
    "    end = time.time()\n",
    "\n",
    "    print(f\"Total time required is {end-start} minutes\")\n",
    "\n",
    "\n",
    "await main()"
   ]
  },
  {
   "cell_type": "code",
   "execution_count": null,
   "id": "8499adf1",
   "metadata": {},
   "outputs": [],
   "source": []
  }
 ],
 "metadata": {
  "kernelspec": {
   "display_name": "base",
   "language": "python",
   "name": "python3"
  },
  "language_info": {
   "codemirror_mode": {
    "name": "ipython",
    "version": 3
   },
   "file_extension": ".py",
   "mimetype": "text/x-python",
   "name": "python",
   "nbconvert_exporter": "python",
   "pygments_lexer": "ipython3",
   "version": "3.13.2"
  }
 },
 "nbformat": 4,
 "nbformat_minor": 5
}
