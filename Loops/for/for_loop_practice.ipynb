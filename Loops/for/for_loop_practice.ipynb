{
 "cells": [
  {
   "cell_type": "markdown",
   "id": "3db6f0ad",
   "metadata": {},
   "source": [
    "### Count words in a text"
   ]
  },
  {
   "cell_type": "code",
   "execution_count": 9,
   "id": "de433bde",
   "metadata": {},
   "outputs": [],
   "source": [
    "text = \"Generative AI is transforming the world.\""
   ]
  },
  {
   "cell_type": "code",
   "execution_count": 10,
   "id": "1ca851d2",
   "metadata": {},
   "outputs": [],
   "source": [
    "count = 0"
   ]
  },
  {
   "cell_type": "code",
   "execution_count": 12,
   "id": "88697c91",
   "metadata": {},
   "outputs": [
    {
     "name": "stdout",
     "output_type": "stream",
     "text": [
      "Word cound : 41\n"
     ]
    }
   ],
   "source": [
    "for word in text:\n",
    "    count += 1\n",
    "print(f\"Word cound : {count}\")"
   ]
  },
  {
   "cell_type": "code",
   "execution_count": null,
   "id": "492a7b78",
   "metadata": {},
   "outputs": [],
   "source": [
    "### Count words in a text which are only longer than 3 letters"
   ]
  },
  {
   "cell_type": "code",
   "execution_count": 26,
   "id": "c2b1d190",
   "metadata": {},
   "outputs": [],
   "source": [
    "text = \"Generative AI?! is transforming the world.\""
   ]
  },
  {
   "cell_type": "code",
   "execution_count": 33,
   "id": "41fe6089",
   "metadata": {},
   "outputs": [
    {
     "name": "stdout",
     "output_type": "stream",
     "text": [
      "words: Generative\n",
      "words: transforming\n",
      "words: world\n",
      "Wor_count: 3\n"
     ]
    }
   ],
   "source": [
    "parts = text.split()\n",
    "word_count=0\n",
    "for part in parts:\n",
    "    cleaned_word = part.strip(\".,!?.\")\n",
    "    if len(cleaned_word)>3:\n",
    "        print(f\"words: {cleaned_word}\")\n",
    "        word_count+=1\n",
    "print(f\"Wor_count: {word_count}\")\n"
   ]
  },
  {
   "cell_type": "code",
   "execution_count": null,
   "id": "97caa6d2",
   "metadata": {},
   "outputs": [
    {
     "name": "stdout",
     "output_type": "stream",
     "text": [
      ".\n"
     ]
    }
   ],
   "source": []
  },
  {
   "cell_type": "code",
   "execution_count": null,
   "id": "9229b452",
   "metadata": {},
   "outputs": [],
   "source": []
  }
 ],
 "metadata": {
  "kernelspec": {
   "display_name": "base",
   "language": "python",
   "name": "python3"
  },
  "language_info": {
   "codemirror_mode": {
    "name": "ipython",
    "version": 3
   },
   "file_extension": ".py",
   "mimetype": "text/x-python",
   "name": "python",
   "nbconvert_exporter": "python",
   "pygments_lexer": "ipython3",
   "version": "3.13.2"
  }
 },
 "nbformat": 4,
 "nbformat_minor": 5
}
