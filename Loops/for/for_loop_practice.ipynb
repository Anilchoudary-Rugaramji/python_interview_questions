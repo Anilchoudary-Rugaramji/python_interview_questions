{
 "cells": [
  {
   "cell_type": "markdown",
   "id": "3db6f0ad",
   "metadata": {},
   "source": [
    "### Count words in a text"
   ]
  },
  {
   "cell_type": "code",
   "execution_count": 9,
   "id": "de433bde",
   "metadata": {},
   "outputs": [],
   "source": [
    "text = \"Generative AI is transforming the world.\""
   ]
  },
  {
   "cell_type": "code",
   "execution_count": 10,
   "id": "1ca851d2",
   "metadata": {},
   "outputs": [],
   "source": [
    "count = 0"
   ]
  },
  {
   "cell_type": "code",
   "execution_count": 12,
   "id": "88697c91",
   "metadata": {},
   "outputs": [
    {
     "name": "stdout",
     "output_type": "stream",
     "text": [
      "Word cound : 41\n"
     ]
    }
   ],
   "source": [
    "for word in text:\n",
    "    count += 1\n",
    "print(f\"Word cound : {count}\")"
   ]
  },
  {
   "cell_type": "code",
   "execution_count": null,
   "id": "492a7b78",
   "metadata": {},
   "outputs": [],
   "source": [
    "### Count words in a text which are only longer than 3 letters"
   ]
  },
  {
   "cell_type": "code",
   "execution_count": 26,
   "id": "c2b1d190",
   "metadata": {},
   "outputs": [],
   "source": [
    "text = \"Generative AI?! is transforming the world.\""
   ]
  },
  {
   "cell_type": "code",
   "execution_count": 33,
   "id": "41fe6089",
   "metadata": {},
   "outputs": [
    {
     "name": "stdout",
     "output_type": "stream",
     "text": [
      "words: Generative\n",
      "words: transforming\n",
      "words: world\n",
      "Wor_count: 3\n"
     ]
    }
   ],
   "source": [
    "parts = text.split()\n",
    "word_count=0\n",
    "for part in parts:\n",
    "    cleaned_word = part.strip(\".,!?.\")\n",
    "    if len(cleaned_word)>3:\n",
    "        print(f\"words: {cleaned_word}\")\n",
    "        word_count+=1\n",
    "print(f\"Wor_count: {word_count}\")\n"
   ]
  },
  {
   "cell_type": "code",
   "execution_count": 1,
   "id": "97caa6d2",
   "metadata": {},
   "outputs": [
    {
     "name": "stdout",
     "output_type": "stream",
     "text": [
      "0\n",
      "1\n",
      "2\n",
      "3\n",
      "4\n"
     ]
    }
   ],
   "source": [
    "for i in range(5):\n",
    "    print(i)"
   ]
  },
  {
   "cell_type": "code",
   "execution_count": 3,
   "id": "9229b452",
   "metadata": {},
   "outputs": [
    {
     "name": "stdout",
     "output_type": "stream",
     "text": [
      "1\n",
      "2\n",
      "3\n",
      "4\n",
      "5\n",
      "6\n",
      "7\n",
      "8\n",
      "9\n",
      "10\n"
     ]
    }
   ],
   "source": [
    "for i in range(1,11):\n",
    "    print(i)"
   ]
  },
  {
   "cell_type": "code",
   "execution_count": 4,
   "id": "1d44fb6b",
   "metadata": {},
   "outputs": [],
   "source": [
    "fruits = [\"apple\", \"banana\", \"cherry\"]"
   ]
  },
  {
   "cell_type": "code",
   "execution_count": 5,
   "id": "8219c5ff",
   "metadata": {},
   "outputs": [
    {
     "name": "stdout",
     "output_type": "stream",
     "text": [
      "apple\n",
      "banana\n",
      "cherry\n"
     ]
    }
   ],
   "source": [
    "for fruit in fruits:\n",
    "    print(fruit)"
   ]
  },
  {
   "cell_type": "code",
   "execution_count": 6,
   "id": "1ea025ba",
   "metadata": {},
   "outputs": [
    {
     "name": "stdout",
     "output_type": "stream",
     "text": [
      "A\n",
      "n\n",
      "i\n",
      "l\n",
      "c\n",
      "h\n",
      "o\n",
      "u\n",
      "d\n",
      "a\n",
      "r\n",
      "y\n",
      " \n",
      "R\n",
      "u\n",
      "g\n",
      "a\n",
      "r\n",
      "a\n",
      "m\n",
      "j\n",
      "i\n"
     ]
    }
   ],
   "source": [
    "word = \"Anilchoudary Rugaramji\"\n",
    "for char in word:\n",
    "    print(char)"
   ]
  },
  {
   "cell_type": "code",
   "execution_count": 8,
   "id": "5463c1d7",
   "metadata": {},
   "outputs": [
    {
     "name": "stdout",
     "output_type": "stream",
     "text": [
      "0:['red', 'green', 'blue']\n",
      "1:['red', 'green', 'blue']\n",
      "2:['red', 'green', 'blue']\n"
     ]
    }
   ],
   "source": [
    "colors = [\"red\", \"green\", \"blue\"]\n",
    "for index, color in enumerate(colors):\n",
    "    print(f\"{index}:{colors}\")"
   ]
  },
  {
   "cell_type": "code",
   "execution_count": 9,
   "id": "297417df",
   "metadata": {},
   "outputs": [
    {
     "name": "stdout",
     "output_type": "stream",
     "text": [
      "name->Alice\n",
      "age->30\n",
      "city->New York\n"
     ]
    }
   ],
   "source": [
    "person = {\"name\": \"Alice\", \"age\": 30, \"city\": \"New York\"}\n",
    "for key, value in person.items():\n",
    "    print(f\"{key}->{value}\")"
   ]
  },
  {
   "cell_type": "code",
   "execution_count": 13,
   "id": "6aa55087",
   "metadata": {},
   "outputs": [
    {
     "name": "stdout",
     "output_type": "stream",
     "text": [
      "Task 1: eat\n",
      "Task 2: code\n",
      "Task 3: sleep\n"
     ]
    }
   ],
   "source": [
    "# start indexing at eh custom numebring\n",
    "\n",
    "tasks = [\"eat\", \"code\", \"sleep\"]\n",
    "\n",
    "for index, task in enumerate(tasks, start=1):\n",
    "    print(f\"Task {index}: {task}\")"
   ]
  },
  {
   "cell_type": "code",
   "execution_count": 15,
   "id": "51bcc123",
   "metadata": {},
   "outputs": [
    {
     "name": "stdout",
     "output_type": "stream",
     "text": [
      "25 at the index 1 is greater than 20\n",
      "30 at the index 2 is greater than 20\n",
      "45 at the index 3 is greater than 20\n"
     ]
    }
   ],
   "source": [
    "numbers = [10, 25, 30, 45]\n",
    "for index, number in enumerate(numbers):\n",
    "    if number > 20:\n",
    "        print(f\"{number} at the index {index} is greater than 20\")"
   ]
  },
  {
   "cell_type": "code",
   "execution_count": 19,
   "id": "1eb4f37c",
   "metadata": {},
   "outputs": [
    {
     "name": "stdout",
     "output_type": "stream",
     "text": [
      "Key: name\n",
      "Key: age\n"
     ]
    }
   ],
   "source": [
    "# to print all keys\n",
    "person = {\"name\": \"Alice\", \"age\": 30}\n",
    "for key in person:\n",
    "    print(f\"Key: {key}\")"
   ]
  },
  {
   "cell_type": "code",
   "execution_count": 23,
   "id": "cd19ad25",
   "metadata": {},
   "outputs": [
    {
     "name": "stdout",
     "output_type": "stream",
     "text": [
      "values: Alice\n",
      "values: 23\n"
     ]
    }
   ],
   "source": [
    "# To print all values\n",
    "person = {\"name\":\"Alice\", \"age\":23}\n",
    "for values in person.values():\n",
    "    print(f\"values: {values}\")"
   ]
  },
  {
   "cell_type": "code",
   "execution_count": 24,
   "id": "49ca518f",
   "metadata": {},
   "outputs": [
    {
     "name": "stdout",
     "output_type": "stream",
     "text": [
      "name->Alice\n",
      "age->23\n"
     ]
    }
   ],
   "source": [
    "# loop through key and values\n",
    "for key, values in person.items():\n",
    "    print(f\"{key}->{values}\")"
   ]
  },
  {
   "cell_type": "code",
   "execution_count": null,
   "id": "7baf19ad",
   "metadata": {},
   "outputs": [
    {
     "name": "stdout",
     "output_type": "stream",
     "text": [
      "John's scores:\n",
      "  math: 90\n",
      "  science: 85\n",
      "Jane's scores:\n",
      "  math: 88\n",
      "  science: 92\n"
     ]
    }
   ],
   "source": [
    "students = {\n",
    "    \"John\": {\"math\": 90, \"science\": 85},\n",
    "    \"Jane\": {\"math\": 88, \"science\": 92}\n",
    "}\n",
    "for student, subjects in students.items():\n",
    "    print(f\"{student}'s scores:\")\n",
    "    for subject, score in subjects.items():\n",
    "        print(f\"{subject}: {score}\")\n"
   ]
  },
  {
   "cell_type": "code",
   "execution_count": null,
   "id": "acaf6656",
   "metadata": {},
   "outputs": [
    {
     "name": "stdout",
     "output_type": "stream",
     "text": [
      "0 name in the school\n",
      "student 0 has these subjects Class A\n",
      "student 1 has these subjects {'Alice': {'Math': 85, 'English': 78, 'Science': 92}, 'Bob': {'Math': 90, 'English': 82, 'Science': 88}}\n",
      "1 name in the school\n",
      "student 0 has these subjects Class B\n",
      "student 1 has these subjects {'Charlie': {'Math': 75, 'English': 85, 'Science': 80}, 'Diana': {'Math': 95, 'English': 90, 'Science': 93}}\n"
     ]
    }
   ],
   "source": [
    "school = {\n",
    "    \"Class A\": {\n",
    "        \"Alice\": {\"Math\": 85, \"English\": 78, \"Science\": 92},\n",
    "        \"Bob\": {\"Math\": 90, \"English\": 82, \"Science\": 88}\n",
    "    },\n",
    "    \"Class B\": {\n",
    "        \"Charlie\": {\"Math\": 75, \"English\": 85, \"Science\": 80},\n",
    "        \"Diana\": {\"Math\": 95, \"English\": 90, \"Science\": 93}\n",
    "    }\n",
    "}\n",
    "\n",
    "\n",
    "for class_name, students in enumerate(school.items()):\n",
    "    print(f\"{class_name} name in the school\")\n",
    "    for student, subjects in enumerate(students.items()):\n",
    "        print(f\"student {student} has these subjects {subjects}\")"
   ]
  },
  {
   "cell_type": "code",
   "execution_count": null,
   "id": "b9e62c0d",
   "metadata": {},
   "outputs": [],
   "source": []
  }
 ],
 "metadata": {
  "kernelspec": {
   "display_name": "base",
   "language": "python",
   "name": "python3"
  },
  "language_info": {
   "codemirror_mode": {
    "name": "ipython",
    "version": 3
   },
   "file_extension": ".py",
   "mimetype": "text/x-python",
   "name": "python",
   "nbconvert_exporter": "python",
   "pygments_lexer": "ipython3",
   "version": "3.13.2"
  }
 },
 "nbformat": 4,
 "nbformat_minor": 5
}
